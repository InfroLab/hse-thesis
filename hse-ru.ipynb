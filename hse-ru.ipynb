{
 "cells": [
  {
   "cell_type": "code",
   "execution_count": 116,
   "metadata": {},
   "outputs": [],
   "source": [
    "from utils import extract_triplets\n",
    "from src.wiki_utils import wiki_scrape\n",
    "from src.graph_utils import draw_kg, filter_graph"
   ]
  },
  {
   "cell_type": "code",
   "execution_count": 84,
   "metadata": {},
   "outputs": [
    {
     "name": "stderr",
     "output_type": "stream",
     "text": [
      "Links Scraped: 100%|███████████████████████████████████████████████████████████████████| 378/378 [00:31<00:00, 11.95/s]"
     ]
    },
    {
     "name": "stdout",
     "output_type": "stream",
     "text": [
      "Wikipedia pages scraped: 176\n"
     ]
    },
    {
     "name": "stderr",
     "output_type": "stream",
     "text": [
      "\n"
     ]
    }
   ],
   "source": [
    "wiki_data = wiki_scrape('Высшая школа экономики')"
   ]
  },
  {
   "cell_type": "code",
   "execution_count": 86,
   "metadata": {},
   "outputs": [],
   "source": [
    "wiki_data = wiki_data[wiki_data.text.notnull() & \n",
    "                      ~wiki_data.link.str.contains(\"Category|Категория\")\n",
    "                     ].drop_duplicates(subset='text')"
   ]
  },
  {
   "cell_type": "code",
   "execution_count": 31,
   "metadata": {},
   "outputs": [],
   "source": [
    "from transformers import pipeline, AutoTokenizer\n",
    "tokenizer = AutoTokenizer.from_pretrained('/data/artem/rebel/model/rebel-ru', truncation=True)\n",
    "triplet_extractor = pipeline('text2text-generation', model='/data/artem/rebel/model/rebel-ru',\n",
    "                             tokenizer=tokenizer)"
   ]
  },
  {
   "cell_type": "code",
   "execution_count": 87,
   "metadata": {},
   "outputs": [],
   "source": [
    "text_to_feed_ = wiki_data.text.to_list()[0].replace('\\n\\n','\\n').split('\\n')\n",
    "text_to_feed = []\n",
    "for text in text_to_feed_:\n",
    "    if len(text) > 1024:\n",
    "        text = text[:1024]\n",
    "    text_to_feed.append(text)"
   ]
  },
  {
   "cell_type": "code",
   "execution_count": 90,
   "metadata": {},
   "outputs": [
    {
     "data": {
      "text/plain": [
       "'Национальный исследовательский университет «Высшая школа экономики» (НИУ ВШЭ; \"Вы́шка\") — автономное учреждение, федеральное государственное высшее учебное заведение. ВШЭ создана в 1992 году, нынешний статус носит с 2009 года. Основной кампус находится в Москве, ещё три — в Санкт-Петербурге, Нижнем Новгороде и Перми.'"
      ]
     },
     "execution_count": 90,
     "metadata": {},
     "output_type": "execute_result"
    }
   ],
   "source": [
    "text_to_feed = text_to_feed[0] ### taking first paragraph with general information\n",
    "text_to_feed"
   ]
  },
  {
   "cell_type": "code",
   "execution_count": 118,
   "metadata": {},
   "outputs": [],
   "source": [
    "extracted_texts = []\n",
    "for sample_feed in [text_to_feed]: \n",
    "    # We need to use the tokenizer manually since we need special tokens.\n",
    "    extracted_texts.append(triplet_extractor.tokenizer.batch_decode([triplet_extractor(\n",
    "        sample_feed, return_tensors=True, return_text=False)[0][\"generated_token_ids\"]])\n",
    "      )\n",
    "# Function to parse the generated text and extract the triplets\n",
    "extracted_triplets = []\n",
    "for extracted_text in extracted_texts:\n",
    "    extracted_triplets.append(extract_triplets(extracted_text[0]))"
   ]
  },
  {
   "cell_type": "code",
   "execution_count": 75,
   "metadata": {},
   "outputs": [],
   "source": [
    "subjects = []\n",
    "objects = []\n",
    "relations = []\n",
    "for triplets in extracted_triplets:\n",
    "    for triplet in triplets:\n",
    "        if triplet['head'] != triplet['tail']:\n",
    "            subjects.append(triplet['head'])\n",
    "            objects.append(triplet['tail'])\n",
    "            relations.append(triplet['type'])\n",
    "df_pairs = pd.DataFrame({\n",
    "    'subject': subjects,\n",
    "    'relation': relations,\n",
    "    'object': objects\n",
    "})"
   ]
  },
  {
   "cell_type": "code",
   "execution_count": 103,
   "metadata": {},
   "outputs": [
    {
     "data": {
      "text/html": [
       "<div>\n",
       "<style scoped>\n",
       "    .dataframe tbody tr th:only-of-type {\n",
       "        vertical-align: middle;\n",
       "    }\n",
       "\n",
       "    .dataframe tbody tr th {\n",
       "        vertical-align: top;\n",
       "    }\n",
       "\n",
       "    .dataframe thead th {\n",
       "        text-align: right;\n",
       "    }\n",
       "</style>\n",
       "<table border=\"1\" class=\"dataframe\">\n",
       "  <thead>\n",
       "    <tr style=\"text-align: right;\">\n",
       "      <th></th>\n",
       "      <th>subject</th>\n",
       "      <th>relation</th>\n",
       "      <th>object</th>\n",
       "    </tr>\n",
       "  </thead>\n",
       "  <tbody>\n",
       "    <tr>\n",
       "      <th>0</th>\n",
       "      <td>Высшая школа экономики</td>\n",
       "      <td>расположение штаб-квартиры</td>\n",
       "      <td>Москве</td>\n",
       "    </tr>\n",
       "    <tr>\n",
       "      <th>1</th>\n",
       "      <td>Высшая школа экономики</td>\n",
       "      <td>местонахождение</td>\n",
       "      <td>Москве</td>\n",
       "    </tr>\n",
       "    <tr>\n",
       "      <th>2</th>\n",
       "      <td>Высшая школа экономики</td>\n",
       "      <td>дата основания / создания / возникновения</td>\n",
       "      <td>1992 году</td>\n",
       "    </tr>\n",
       "    <tr>\n",
       "      <th>3</th>\n",
       "      <td>Высшая школа экономики</td>\n",
       "      <td>организационно-правовая форма</td>\n",
       "      <td>автономное учреждение</td>\n",
       "    </tr>\n",
       "  </tbody>\n",
       "</table>\n",
       "</div>"
      ],
      "text/plain": [
       "                  subject                                   relation  \\\n",
       "0  Высшая школа экономики                 расположение штаб-квартиры   \n",
       "1  Высшая школа экономики                            местонахождение   \n",
       "2  Высшая школа экономики  дата основания / создания / возникновения   \n",
       "3  Высшая школа экономики              организационно-правовая форма   \n",
       "\n",
       "                  object  \n",
       "0                 Москве  \n",
       "1                 Москве  \n",
       "2              1992 году  \n",
       "3  автономное учреждение  "
      ]
     },
     "execution_count": 103,
     "metadata": {},
     "output_type": "execute_result"
    }
   ],
   "source": [
    "df_pairs.head()"
   ]
  },
  {
   "cell_type": "code",
   "execution_count": 127,
   "metadata": {},
   "outputs": [],
   "source": [
    "# Normalizing words\n",
    "import pymorphy2\n",
    "import string\n",
    "morph = pymorphy2.MorphAnalyzer()\n",
    "def normalize(text):\n",
    "    text = text.translate(str.maketrans('', '', string.punctuation))\n",
    "    return morph.parse(text)[0].normal_form"
   ]
  },
  {
   "cell_type": "code",
   "execution_count": 128,
   "metadata": {},
   "outputs": [],
   "source": [
    "df_pairs['subject'] = df_pairs['subject'].apply(normalize)\n",
    "df_pairs['object'] = df_pairs['object'].apply(normalize)"
   ]
  },
  {
   "cell_type": "code",
   "execution_count": 129,
   "metadata": {},
   "outputs": [
    {
     "data": {
      "text/html": [
       "<div>\n",
       "<style scoped>\n",
       "    .dataframe tbody tr th:only-of-type {\n",
       "        vertical-align: middle;\n",
       "    }\n",
       "\n",
       "    .dataframe tbody tr th {\n",
       "        vertical-align: top;\n",
       "    }\n",
       "\n",
       "    .dataframe thead th {\n",
       "        text-align: right;\n",
       "    }\n",
       "</style>\n",
       "<table border=\"1\" class=\"dataframe\">\n",
       "  <thead>\n",
       "    <tr style=\"text-align: right;\">\n",
       "      <th></th>\n",
       "      <th>subject</th>\n",
       "      <th>relation</th>\n",
       "      <th>object</th>\n",
       "    </tr>\n",
       "  </thead>\n",
       "  <tbody>\n",
       "    <tr>\n",
       "      <th>0</th>\n",
       "      <td>высшая школа экономика</td>\n",
       "      <td>расположение штаб-квартиры</td>\n",
       "      <td>москва</td>\n",
       "    </tr>\n",
       "    <tr>\n",
       "      <th>1</th>\n",
       "      <td>высшая школа экономика</td>\n",
       "      <td>местонахождение</td>\n",
       "      <td>москва</td>\n",
       "    </tr>\n",
       "    <tr>\n",
       "      <th>2</th>\n",
       "      <td>высшая школа экономика</td>\n",
       "      <td>дата основания / создания / возникновения</td>\n",
       "      <td>1992 год</td>\n",
       "    </tr>\n",
       "    <tr>\n",
       "      <th>3</th>\n",
       "      <td>высшая школа экономика</td>\n",
       "      <td>организационно-правовая форма</td>\n",
       "      <td>автономное учреждение</td>\n",
       "    </tr>\n",
       "  </tbody>\n",
       "</table>\n",
       "</div>"
      ],
      "text/plain": [
       "                  subject                                   relation  \\\n",
       "0  высшая школа экономика                 расположение штаб-квартиры   \n",
       "1  высшая школа экономика                            местонахождение   \n",
       "2  высшая школа экономика  дата основания / создания / возникновения   \n",
       "3  высшая школа экономика              организационно-правовая форма   \n",
       "\n",
       "                  object  \n",
       "0                 москва  \n",
       "1                 москва  \n",
       "2               1992 год  \n",
       "3  автономное учреждение  "
      ]
     },
     "execution_count": 129,
     "metadata": {},
     "output_type": "execute_result"
    }
   ],
   "source": [
    "df_pairs.head()"
   ]
  },
  {
   "cell_type": "code",
   "execution_count": 130,
   "metadata": {},
   "outputs": [
    {
     "data": {
      "image/png": "[encoded data removed]",
      "text/plain": [
       "<Figure size 1200x600 with 1 Axes>"
      ]
     },
     "metadata": {},
     "output_type": "display_data"
    }
   ],
   "source": [
    "draw_kg(df_pairs)"
   ]
  },
  {
   "cell_type": "code",
   "execution_count": 131,
   "metadata": {},
   "outputs": [],
   "source": [
    "df_pairs.to_csv('hse-relations.xlsx')"
   ]
  }
 ],
 "metadata": {
  "kernelspec": {
   "display_name": "Python 3 (ipykernel)",
   "language": "python",
   "name": "python3"
  },
  "language_info": {
   "codemirror_mode": {
    "name": "ipython",
    "version": 3
   },
   "file_extension": ".py",
   "mimetype": "text/x-python",
   "name": "python",
   "nbconvert_exporter": "python",
   "pygments_lexer": "ipython3",
   "version": "3.9.13"
  }
 },
 "nbformat": 4,
 "nbformat_minor": 4
}
